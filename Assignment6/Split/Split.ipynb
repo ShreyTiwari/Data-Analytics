{
 "cells": [
  {
   "cell_type": "code",
   "execution_count": 3,
   "metadata": {
    "collapsed": true
   },
   "outputs": [],
   "source": [
    "#Importing Packages\n",
    "import pandas as pd\n",
    "import numpy as np\n",
    "from sklearn.model_selection import train_test_split\n",
    "\n",
    "#Importing the dataset\n",
    "df = pd.read_csv('Absenteeism_at_work.csv')\n",
    "\n",
    "#Splitting data into Test and Train\n",
    "train1, test1 = train_test_split(df, test_size=0.2)\n",
    "train2, test2 = train_test_split(df, test_size=0.2)\n",
    "train3, test3 = train_test_split(df, test_size=0.2)"
   ]
  },
  {
   "cell_type": "code",
   "execution_count": 10,
   "metadata": {},
   "outputs": [],
   "source": [
    "#Writing data back as .csv file\n",
    "\n",
    "#Writing Set1 to one folder\n",
    "train1.to_csv('Split1/Train.csv', index = False)\n",
    "test1.to_csv('Split1/Test.csv', index = False)\n",
    "\n",
    "#Writing Set2 to one folder\n",
    "train2.to_csv('Split2/Train.csv', index = False)\n",
    "test2.to_csv('Split2/Test.csv', index = False)\n",
    "\n",
    "#Writing Set3 to one folder\n",
    "train3.to_csv('Split3/Train.csv', index = False)\n",
    "test3.to_csv('Split3/Test.csv', index = False)"
   ]
  },
  {
   "cell_type": "code",
   "execution_count": null,
   "metadata": {
    "collapsed": true
   },
   "outputs": [],
   "source": [
    "# Please do not rerun the script and use its results.\n",
    "# We all must have the same test and train sets to compare models."
   ]
  }
 ],
 "metadata": {
  "kernelspec": {
   "display_name": "Python 3",
   "language": "python",
   "name": "python3"
  },
  "language_info": {
   "codemirror_mode": {
    "name": "ipython",
    "version": 3
   },
   "file_extension": ".py",
   "mimetype": "text/x-python",
   "name": "python",
   "nbconvert_exporter": "python",
   "pygments_lexer": "ipython3",
   "version": "3.6.1"
  }
 },
 "nbformat": 4,
 "nbformat_minor": 2
}
